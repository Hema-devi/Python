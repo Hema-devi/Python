{
  "nbformat": 4,
  "nbformat_minor": 0,
  "metadata": {
    "colab": {
      "provenance": [],
      "authorship_tag": "ABX9TyOJrzj6RXUgiDyfgsDXzZtR",
      "include_colab_link": true
    },
    "kernelspec": {
      "name": "python3",
      "display_name": "Python 3"
    },
    "language_info": {
      "name": "python"
    }
  },
  "cells": [
    {
      "cell_type": "markdown",
      "metadata": {
        "id": "view-in-github",
        "colab_type": "text"
      },
      "source": [
        "<a href=\"https://colab.research.google.com/github/Hema-devi/Python/blob/main/Copy_of_Create_a_list_of_first_10_natural_numbers_And_write_a_program_to_find_the_lists_of_odd_numbers_and_even_numbers_separately_And%2C_to_find_the_square_of_its_odd_and_even_lists_.ipynb\" target=\"_parent\"><img src=\"https://colab.research.google.com/assets/colab-badge.svg\" alt=\"Open In Colab\"/></a>"
      ]
    },
    {
      "cell_type": "code",
      "execution_count": null,
      "metadata": {
        "colab": {
          "base_uri": "https://localhost:8080/"
        },
        "id": "gUNmr88Rgykm",
        "outputId": "b3462303-68ee-4c43-b374-75e63e2ee52f"
      },
      "outputs": [
        {
          "output_type": "stream",
          "name": "stdout",
          "text": [
            "[2]\n",
            "[2]\n",
            "[2, 4]\n",
            "[2, 4]\n",
            "[2, 4, 6]\n",
            "[2, 4, 6]\n",
            "[2, 4, 6, 8]\n",
            "[2, 4, 6, 8]\n",
            "[2, 4, 6, 8, 10]\n",
            "[2, 4, 6, 8, 10]\n",
            "[10]\n",
            "[10]\n"
          ]
        }
      ],
      "source": [
        "a = [1,2,3,4,5,6,7,8,9,10]\n",
        "odd_list=[]\n",
        "even_list=[]\n",
        "odd_square=[]\n",
        "even_square=[]\n",
        "for i in a:\n",
        "  if i%2==0:\n",
        "    even_list.append(i)\n",
        "    even_square.append(i*1)\n",
        "    print(even_list)\n",
        "    print(even_square)\n",
        "else:\n",
        "  odd_list.append(i)\n",
        "  odd_square.append(i)\n",
        "  print(odd_list)\n",
        "  print(odd_square)"
      ]
    },
    {
      "cell_type": "markdown",
      "source": [
        "Write a program to find the largest and smallest number in the list without\n",
        "using the in-built function."
      ],
      "metadata": {
        "id": "cjSXrcj7m5Sx"
      }
    },
    {
      "cell_type": "code",
      "source": [
        "def find_largest_smallest(numbers):\n",
        "    if not numbers:\n",
        "        return None, None\n",
        "    largest = smallest = numbers[0]\n",
        "    for num in numbers[1:]:\n",
        "        largest = max(largest, num)\n",
        "        smallest = min(smallest, num)\n",
        "    return largest, smallest\n",
        "numbers = [5, 3, 9, 1, 7, 2]\n",
        "largest, smallest = find_largest_smallest(numbers)\n",
        "print(\"List:\", numbers)\n",
        "print(\"Largest number:\", largest)\n",
        "print(\"Smallest number:\", smallest)\n"
      ],
      "metadata": {
        "colab": {
          "base_uri": "https://localhost:8080/"
        },
        "id": "qAd6Xe9Bku9l",
        "outputId": "e7c8f581-515f-4fdb-c05c-b05e5bec563a"
      },
      "execution_count": null,
      "outputs": [
        {
          "output_type": "stream",
          "name": "stdout",
          "text": [
            "List: [5, 3, 9, 1, 7, 2]\n",
            "Largest number: 9\n",
            "Smallest number: 1\n"
          ]
        }
      ]
    },
    {
      "cell_type": "markdown",
      "source": [
        "Write a program to find the second largest and second smallest number in the\n",
        "list without using the in-built function."
      ],
      "metadata": {
        "id": "7bBWeL5nmqOR"
      }
    },
    {
      "cell_type": "code",
      "source": [
        "def find_second_largest_smallest(numbers):\n",
        "    unique_numbers = list(set(numbers))\n",
        "    unique_numbers.sort()\n",
        "    return unique_numbers[-2], unique_numbers[1]\n",
        "numbers = [10, 5, 20, 8, 15, 3, 17]\n",
        "second_largest, second_smallest = find_second_largest_smallest(numbers)\n",
        "print(\"Second largest number:\", second_largest)\n",
        "print(\"Second smallest number:\", second_smallest)\n"
      ],
      "metadata": {
        "colab": {
          "base_uri": "https://localhost:8080/"
        },
        "id": "BQi8cyAgll37",
        "outputId": "e084b87a-61a6-4b2b-e9ca-8b1b5994e99e"
      },
      "execution_count": null,
      "outputs": [
        {
          "output_type": "stream",
          "name": "stdout",
          "text": [
            "Second largest number: 17\n",
            "Second smallest number: 5\n"
          ]
        }
      ]
    },
    {
      "cell_type": "markdown",
      "source": [
        "Write a program to sort elements stored in the list as Ascending order and\n",
        "Descending order without using the in-built function (sort ()).\n",
        "Eg: [5,3,7,9,8,4,2]\n",
        "Output: [2,3,4,5,7,8,9] – Ascending Order,\n",
        "[9,8,7,5,4,3,2] – Descending Order"
      ],
      "metadata": {
        "id": "uKsclfAYmiO1"
      }
    },
    {
      "cell_type": "code",
      "source": [
        "def ascending_order(lst):\n",
        "    for i in range(len(lst)):\n",
        "        for j in range(i + 1, len(lst)):\n",
        "            if lst[i] > lst[j]:\n",
        "                lst[i], lst[j] = lst[j], lst[i]\n",
        "    return lst\n",
        "def descending_order(lst):\n",
        "    for i in range(len(lst)):\n",
        "        for j in range(i + 1, len(lst)):\n",
        "            if lst[i] < lst[j]:\n",
        "                lst[i], lst[j] = lst[j], lst[i]\n",
        "    return lst\n",
        "input_list = [5, 3, 7, 9, 8, 4, 2]\n",
        "ascending_sorted = ascending_order(input_list.copy())\n",
        "print(\"Ascending Order:\", ascending_sorted)\n",
        "descending_sorted = descending_order(input_list.copy())\n",
        "print(\"Descending Order:\", descending_sorted)\n"
      ],
      "metadata": {
        "colab": {
          "base_uri": "https://localhost:8080/"
        },
        "id": "c8btUPN_mj-i",
        "outputId": "fc453898-3f89-41d5-d89b-68837756f148"
      },
      "execution_count": null,
      "outputs": [
        {
          "output_type": "stream",
          "name": "stdout",
          "text": [
            "Ascending Order: [2, 3, 4, 5, 7, 8, 9]\n",
            "Descending Order: [9, 8, 7, 5, 4, 3, 2]\n"
          ]
        }
      ]
    },
    {
      "cell_type": "markdown",
      "source": [
        "Find the index position of the specific number stored in the list.\n",
        "Eg: a= [45,67,83,24,55,87,77,34]\n",
        "What is the position of 55?\n",
        "Output: 4"
      ],
      "metadata": {
        "id": "zOaD0aGEo2AR"
      }
    },
    {
      "cell_type": "code",
      "source": [
        "a = [45, 67, 83, 24, 55, 87, 77, 34]\n",
        "number_to_find = 55\n",
        "position = a.index(number_to_find)\n",
        "print(\"The position of\", number_to_find, \"is:\", position)"
      ],
      "metadata": {
        "colab": {
          "base_uri": "https://localhost:8080/"
        },
        "id": "7Y9JZ--4o38s",
        "outputId": "dfa3e47d-652e-4ba3-8489-3231f794fe36"
      },
      "execution_count": null,
      "outputs": [
        {
          "output_type": "stream",
          "name": "stdout",
          "text": [
            "The position of 55 is: 4\n"
          ]
        }
      ]
    },
    {
      "cell_type": "markdown",
      "source": [
        "Find most frequent element present in a list.\n",
        "Eg: a= [4,5,6,4,6,7,4,2,4,8,4]\n",
        "Output: 4"
      ],
      "metadata": {
        "id": "3IA_joE_qtiW"
      }
    },
    {
      "cell_type": "code",
      "source": [
        "a = [4,5,6,4,6,7,4,2,4,8,4]\n",
        "frequent_element_list = 4\n",
        "element = a.append(numbers)\n",
        "print(\"The frequent element\",frequent_element_list,\"is:\",position)"
      ],
      "metadata": {
        "colab": {
          "base_uri": "https://localhost:8080/"
        },
        "id": "POBk8OfDqwaP",
        "outputId": "ccb902d5-fe61-4f53-f651-cb768923f8ba"
      },
      "execution_count": null,
      "outputs": [
        {
          "output_type": "stream",
          "name": "stdout",
          "text": [
            "The frequent element 4 is: 4\n"
          ]
        }
      ]
    },
    {
      "cell_type": "markdown",
      "source": [
        "Below are the two lists. Write a Python program to convert them into a\n",
        "dictionary in a way that item from list1 is the key and item from list2 is the\n",
        "value by using update method ().\n",
        "keys = [&#39;Ten&#39;, &#39;Twenty&#39;, &#39;Thirty&#39;]\n",
        "values = [10, 20, 30]\n",
        "Output:\n",
        "{&#39;Ten&#39;: 10, &#39;Twenty&#39;: 20, &#39;Thirty&#39;: 30}"
      ],
      "metadata": {
        "id": "O2r_1so_sWG6"
      }
    },
    {
      "cell_type": "code",
      "source": [
        "keys = [\"Ten\",\"Twenty\",\"Thirty\"]\n",
        "values = [10,20,30]\n",
        "print(\"Original key list is : \" + str(keys))\n",
        "print(\"Original value list is : \" +str(values))\n",
        "res = {keys[i]: values[i] for i in range(len(keys))}\n",
        "print(\"Resultant dictionary is : \" + str(res))"
      ],
      "metadata": {
        "colab": {
          "base_uri": "https://localhost:8080/"
        },
        "id": "w_HtjzrvsYxM",
        "outputId": "2d0091af-6810-4aac-fe2e-4e586c1da3dd"
      },
      "execution_count": null,
      "outputs": [
        {
          "output_type": "stream",
          "name": "stdout",
          "text": [
            "Original key list is : ['Ten', 'Twenty', 'Thirty']\n",
            "Original value list is : [10, 20, 30]\n",
            "Resultant dictionary is : {'Ten': 10, 'Twenty': 20, 'Thirty': 30}\n"
          ]
        }
      ]
    },
    {
      "cell_type": "markdown",
      "source": [
        "Create a list of 10 members as a Voter_list. Assume that there are 3\n",
        "Candidates (A, B &amp; C) are going to contest in the election process. Write a\n",
        "program that voters will cast their votes and predict the Winner and Runner of\n",
        "the election process and to find the members who voted for the Winner and\n",
        "Runner."
      ],
      "metadata": {
        "id": "vuuWKVj46pBQ"
      }
    },
    {
      "cell_type": "code",
      "source": [
        "import random\n",
        "voter_list = ['Voter1', 'Voter2', 'Voter3', 'Voter4', 'Voter5',\n",
        "              'Voter6', 'Voter7', 'Voter8', 'Voter9', 'Voter10']\n",
        "\n",
        "candidates = ['A', 'B', 'C']\n",
        "votes = {candidate: 0 for candidate in candidates}\n",
        "for voter in voter_list:\n",
        "    vote = random.choice(candidates)\n",
        "    votes[vote] += 1\n",
        "sorted_votes = sorted(votes.items(), key=lambda x: x[1], reverse=True)\n",
        "winner = sorted_votes[0][0]\n",
        "runner_up = sorted_votes[1][0]\n",
        "winner_voters = [voter for voter in voter_list if votes[winner] > 0]\n",
        "runner_up_voters = [voter for voter in voter_list if votes[runner_up] > 0]\n",
        "print(\"Election Results:\")\n",
        "print(\"Winner:\", winner)\n",
        "print(\"Runner-up:\", runner_up)\n",
        "print(\"Members who voted for the winner:\", winner_voters)\n",
        "print(\"Members who voted for the runner-up:\", runner_up_voters)"
      ],
      "metadata": {
        "colab": {
          "base_uri": "https://localhost:8080/"
        },
        "id": "HM0R0myO6vsR",
        "outputId": "7e588fa4-e872-463f-8515-b0b7ea3f9264"
      },
      "execution_count": null,
      "outputs": [
        {
          "output_type": "stream",
          "name": "stdout",
          "text": [
            "Election Results:\n",
            "Winner: B\n",
            "Runner-up: A\n",
            "Members who voted for the winner: ['Voter1', 'Voter2', 'Voter3', 'Voter4', 'Voter5', 'Voter6', 'Voter7', 'Voter8', 'Voter9', 'Voter10']\n",
            "Members who voted for the runner-up: ['Voter1', 'Voter2', 'Voter3', 'Voter4', 'Voter5', 'Voter6', 'Voter7', 'Voter8', 'Voter9', 'Voter10']\n"
          ]
        }
      ]
    },
    {
      "cell_type": "markdown",
      "source": [
        "Write a program to calculate the following functions:\n",
        "1. India (Rupee) to US (Dollar) conversion\n",
        "2. Celsius to Fahrenheit\n",
        "3. BMI Calculation\n",
        "4. Simple Interest Calculation"
      ],
      "metadata": {
        "id": "C0XbqXBW-CQr"
      }
    },
    {
      "cell_type": "code",
      "source": [
        "\n",
        "def inr_to_usd(amount):\n",
        "    conversion_rate = 0.014\n",
        "    return amount * conversion_rate\n",
        "def celsius_to_fahrenheit(celsius):\n",
        "    return (celsius * 9/5) + 32\n",
        "def calculate_bmi(weight_kg, height_m):\n",
        "    return weight_kg / (height_m ** 2)\n",
        "def calculate_simple_interest(principal, rate, time):\n",
        "    return (principal * rate * time) / 100\n",
        "def main():\n",
        "    amount_inr = 1000\n",
        "    amount_usd = inr_to_usd(amount_inr)\n",
        "    print(f\"{amount_inr} INR is equal to {amount_usd} USD.\")\n",
        "    celsius_temp = 25\n",
        "    fahrenheit_temp = celsius_to_fahrenheit(celsius_temp)\n",
        "    print(f\"{celsius_temp} Celsius is equal to {fahrenheit_temp} Fahrenheit.\")\n",
        "    weight = 70 # in kg\n",
        "    height = 1.75 # in meters\n",
        "    bmi = calculate_bmi(weight, height)\n",
        "    print(f\"For a person with weight {weight} kg and height {height} m, the BMI is {bmi}.\")\n",
        "    principal_amount = 1000\n",
        "    rate_of_interest = 5 # in percentage\n",
        "    time_period = 2 # in years\n",
        "    interest = calculate_simple_interest(principal_amount, rate_of_interest, time_period)\n",
        "    print(f\"The simple interest on Rs.{principal_amount} at {rate_of_interest}% for {time_period} years is Rs.{interest}.\")\n",
        "\n",
        "if __name__ == \"__main__\":\n",
        "    main()"
      ],
      "metadata": {
        "colab": {
          "base_uri": "https://localhost:8080/"
        },
        "id": "vMWfMWEa-FEd",
        "outputId": "354dc778-7938-4919-d619-80e54cce63b3"
      },
      "execution_count": null,
      "outputs": [
        {
          "output_type": "stream",
          "name": "stdout",
          "text": [
            "1000 INR is equal to 14.0 USD.\n",
            "25 Celsius is equal to 77.0 Fahrenheit.\n",
            "For a person with weight 70 kg and height 1.75 m, the BMI is 22.857142857142858.\n",
            "The simple interest on Rs.1000 at 5% for 2 years is Rs.100.0.\n"
          ]
        }
      ]
    },
    {
      "cell_type": "markdown",
      "source": [
        "Write a program to get 0s and 1s in the list:\n",
        "Eg: Input list= [0,1,0,1,1,0,1,0,1,0]\n",
        "Output:\n",
        "[0,0,0,0,0,1,1,1,1,1]"
      ],
      "metadata": {
        "id": "oROO26-4_E-P"
      }
    },
    {
      "cell_type": "code",
      "source": [
        "def sort_zeros_ones(input_list):\n",
        "    zeros_count = input_list.count(0)\n",
        "    ones_count = len(input_list) - zeros_count\n",
        "    sorted_list = [0] * zeros_count + [1] * ones_count\n",
        "    return sorted_list\n",
        "\n",
        "input_list = [0, 1, 0, 1, 1, 0, 1, 0, 1, 0]\n",
        "output_list = sort_zeros_ones(input_list)\n",
        "print(output_list)\n"
      ],
      "metadata": {
        "colab": {
          "base_uri": "https://localhost:8080/"
        },
        "id": "DJ5faqRm_IKz",
        "outputId": "c9b5b3d1-5172-4f81-a117-c24a8be48407"
      },
      "execution_count": null,
      "outputs": [
        {
          "output_type": "stream",
          "name": "stdout",
          "text": [
            "[0, 0, 0, 0, 0, 1, 1, 1, 1, 1]\n"
          ]
        }
      ]
    },
    {
      "cell_type": "markdown",
      "source": [],
      "metadata": {
        "id": "GLDvTf9XlgU8"
      }
    },
    {
      "cell_type": "markdown",
      "source": [],
      "metadata": {
        "id": "s-OXO1ELkmvN"
      }
    }
  ]
}